{
 "cells": [
  {
   "cell_type": "code",
   "execution_count": null,
   "source": [
    "import pandas as pd\r\n",
    "import os\r\n",
    "import shutil"
   ],
   "outputs": [],
   "metadata": {}
  },
  {
   "cell_type": "code",
   "execution_count": null,
   "source": [
    "# Data of +ve patients from github\r\n",
    "# Link: https://github.com/ieee8023/covid-chestxray-dataset\r\n",
    "\r\n",
    "File_path = 'Covid_Chestxray_Dataset/metadata.csv'\r\n",
    "Image_path = 'Covid_Chestxray_Dataset/images'"
   ],
   "outputs": [],
   "metadata": {}
  },
  {
   "cell_type": "code",
   "execution_count": null,
   "source": [
    "df = pd.read_csv(File_path)\r\n",
    "print(df.shape)"
   ],
   "outputs": [],
   "metadata": {}
  },
  {
   "cell_type": "code",
   "execution_count": null,
   "source": [
    "df.head()"
   ],
   "outputs": [],
   "metadata": {}
  },
  {
   "cell_type": "code",
   "execution_count": null,
   "source": [
    "df.columns"
   ],
   "outputs": [],
   "metadata": {}
  },
  {
   "cell_type": "code",
   "execution_count": null,
   "source": [
    "print(df['view'])"
   ],
   "outputs": [],
   "metadata": {}
  },
  {
   "cell_type": "code",
   "execution_count": null,
   "source": [
    "Target_dir = 'Covid_Dataset/Covid'\r\n",
    "0\r\n",
    "if not os.path.exists(Target_dir):\r\n",
    "    os.mkdir(Target_dir)"
   ],
   "outputs": [],
   "metadata": {}
  },
  {
   "cell_type": "code",
   "execution_count": null,
   "source": [
    "count = 0\r\n",
    "\r\n",
    "for (i,row) in df.iterrows():\r\n",
    "    if row['finding'] == 'Pneumonia/Viral/COVID-19' and row['view'] == 'PA':\r\n",
    "        filename = row['filename']\r\n",
    "        image_path = os.path.join(Image_path,filename)\r\n",
    "        image_copy_path = os.path.join(Target_dir,filename)\r\n",
    "        shutil.copy2(image_path,image_copy_path)\r\n",
    "        print(\"Moving Image\",count)\r\n",
    "        count += 1\r\n",
    "\r\n",
    "print(count)"
   ],
   "outputs": [],
   "metadata": {}
  },
  {
   "cell_type": "code",
   "execution_count": null,
   "source": [
    "\r\n",
    "# Data of normal patients from kaggle\r\n",
    "# Link: https://www.kaggle.com/paultimothymooney/chest-xray-pneumonia\r\n",
    "\r\n",
    "import random\r\n",
    "Kaggle_File = 'NORMAL_Xray'\r\n",
    "Normal_dir = 'Covid_Dataset/Normal'\r\n",
    "\r\n",
    "if not os.path.exists(Normal_dir):\r\n",
    "    os.mkdir(Normal_dir)\r\n",
    "image_names = os.listdir(Kaggle_File)\r\n",
    "random.shuffle(image_names)"
   ],
   "outputs": [],
   "metadata": {}
  },
  {
   "cell_type": "code",
   "execution_count": null,
   "source": [
    "for i in range(196):\r\n",
    "    image_name = image_names[i]\r\n",
    "    image_path = os.path.join(Kaggle_File,image_name)\r\n",
    "    \r\n",
    "    target_path = os.path.join(Normal_dir,image_name)\r\n",
    "    shutil.copy2(image_path,target_path)\r\n",
    "    print('Moving Image',i)"
   ],
   "outputs": [],
   "metadata": {}
  },
  {
   "cell_type": "code",
   "execution_count": null,
   "source": [
    "# For Train And Validation Dataset\r\n",
    "SPLIT = 0.8\r\n",
    "for f in os.listdir('Covid_Dataset/Train'):\r\n",
    "    path = \"Covid_Dataset/Train/\"+f\r\n",
    "    imgs = os.listdir(path)\r\n",
    "    \r\n",
    "    split_size = int(SPLIT*len(imgs))\r\n",
    "    files_to_move = imgs[split_size:]\r\n",
    "    print(len(files_to_move))\r\n",
    "    \r\n",
    "    for val_img  in files_to_move:\r\n",
    "        src = os.path.join(path,val_img)\r\n",
    "        dest = os.path.join('Covid_Dataset/Valid/'+f,val_img)\r\n",
    "        shutil.move(src,dest)"
   ],
   "outputs": [],
   "metadata": {}
  },
  {
   "cell_type": "code",
   "execution_count": 1,
   "source": [
    "import numpy as np\r\n",
    "import matplotlib.pyplot as plt\r\n",
    "import keras\r\n",
    "from keras.layers import *\r\n",
    "from keras.models import * \r\n",
    "from keras.preprocessing import image"
   ],
   "outputs": [],
   "metadata": {}
  },
  {
   "cell_type": "code",
   "execution_count": 2,
   "source": [
    "# CNN Based Model in Keras\r\n",
    "\r\n",
    "model = Sequential()\r\n",
    "model.add(Conv2D(32,kernel_size=(3,3),activation='relu',input_shape=(224,224,3)))\r\n",
    "model.add(Conv2D(64,(3,3),activation='relu'))\r\n",
    "model.add(MaxPooling2D(pool_size=(2,2)))\r\n",
    "model.add(Dropout(0.25))\r\n",
    "\r\n",
    "model.add(Conv2D(64,(3,3),activation='relu'))\r\n",
    "model.add(MaxPooling2D(pool_size=(2,2)))\r\n",
    "model.add(Dropout(0.25))\r\n",
    "\r\n",
    "model.add(Conv2D(128,(3,3),activation='relu'))\r\n",
    "model.add(MaxPooling2D(pool_size=(2,2)))\r\n",
    "model.add(Dropout(0.25))\r\n",
    "\r\n",
    "model.add(Flatten())\r\n",
    "model.add(Dense(64,activation='relu'))\r\n",
    "model.add(Dropout(0.5))\r\n",
    "model.add(Dense(1,activation='sigmoid'))\r\n",
    "\r\n",
    "model.compile(loss=keras.losses.binary_crossentropy,optimizer='adam',metrics=['accuracy'])"
   ],
   "outputs": [],
   "metadata": {}
  },
  {
   "cell_type": "code",
   "execution_count": 3,
   "source": [
    "model.summary()"
   ],
   "outputs": [
    {
     "output_type": "stream",
     "name": "stdout",
     "text": [
      "Model: \"sequential\"\n",
      "_________________________________________________________________\n",
      "Layer (type)                 Output Shape              Param #   \n",
      "=================================================================\n",
      "conv2d (Conv2D)              (None, 222, 222, 32)      896       \n",
      "_________________________________________________________________\n",
      "conv2d_1 (Conv2D)            (None, 220, 220, 64)      18496     \n",
      "_________________________________________________________________\n",
      "max_pooling2d (MaxPooling2D) (None, 110, 110, 64)      0         \n",
      "_________________________________________________________________\n",
      "dropout (Dropout)            (None, 110, 110, 64)      0         \n",
      "_________________________________________________________________\n",
      "conv2d_2 (Conv2D)            (None, 108, 108, 64)      36928     \n",
      "_________________________________________________________________\n",
      "max_pooling2d_1 (MaxPooling2 (None, 54, 54, 64)        0         \n",
      "_________________________________________________________________\n",
      "dropout_1 (Dropout)          (None, 54, 54, 64)        0         \n",
      "_________________________________________________________________\n",
      "conv2d_3 (Conv2D)            (None, 52, 52, 128)       73856     \n",
      "_________________________________________________________________\n",
      "max_pooling2d_2 (MaxPooling2 (None, 26, 26, 128)       0         \n",
      "_________________________________________________________________\n",
      "dropout_2 (Dropout)          (None, 26, 26, 128)       0         \n",
      "_________________________________________________________________\n",
      "flatten (Flatten)            (None, 86528)             0         \n",
      "_________________________________________________________________\n",
      "dense (Dense)                (None, 64)                5537856   \n",
      "_________________________________________________________________\n",
      "dropout_3 (Dropout)          (None, 64)                0         \n",
      "_________________________________________________________________\n",
      "dense_1 (Dense)              (None, 1)                 65        \n",
      "=================================================================\n",
      "Total params: 5,668,097\n",
      "Trainable params: 5,668,097\n",
      "Non-trainable params: 0\n",
      "_________________________________________________________________\n"
     ]
    }
   ],
   "metadata": {}
  },
  {
   "cell_type": "code",
   "execution_count": null,
   "source": [],
   "outputs": [],
   "metadata": {}
  },
  {
   "cell_type": "code",
   "execution_count": 5,
   "source": [
    "# Train from scratch\r\n",
    "train_datagen = image.ImageDataGenerator(rescale = 1./255,\r\n",
    "                                            shear_range = 0.2,\r\n",
    "                                            zoom_range = 0.2,\r\n",
    "                                            horizontal_flip = True)\r\n",
    "\r\n",
    "test_dataset = image.ImageDataGenerator(rescale=1./255,\r\n",
    "                                       shear_range = 0.2,\r\n",
    "                                            zoom_range = 0.2,\r\n",
    "                                            horizontal_flip = True)"
   ],
   "outputs": [],
   "metadata": {}
  },
  {
   "cell_type": "code",
   "execution_count": 6,
   "source": [
    "train_generator = train_datagen.flow_from_directory('Covid_Dataset/Train',\r\n",
    "                                                    target_size = (224,224),\r\n",
    "                                                    batch_size = 32,\r\n",
    "                                                    class_mode = 'binary')"
   ],
   "outputs": [
    {
     "output_type": "stream",
     "name": "stdout",
     "text": [
      "Found 312 images belonging to 2 classes.\n"
     ]
    }
   ],
   "metadata": {}
  },
  {
   "cell_type": "code",
   "execution_count": 7,
   "source": [
    "train_generator.class_indices"
   ],
   "outputs": [
    {
     "output_type": "execute_result",
     "data": {
      "text/plain": [
       "{'Covid': 0, 'Normal': 1}"
      ]
     },
     "metadata": {},
     "execution_count": 7
    }
   ],
   "metadata": {}
  },
  {
   "cell_type": "code",
   "execution_count": 8,
   "source": [
    "validation_generator = test_dataset.flow_from_directory('Covid_Dataset/Valid',\r\n",
    "                                                    target_size = (224,224),\r\n",
    "                                                    batch_size = 32,\r\n",
    "                                                    class_mode = 'binary')"
   ],
   "outputs": [
    {
     "output_type": "stream",
     "name": "stdout",
     "text": [
      "Found 80 images belonging to 3 classes.\n"
     ]
    }
   ],
   "metadata": {}
  },
  {
   "cell_type": "code",
   "execution_count": 9,
   "source": [
    "hist = model.fit_generator(train_generator,\r\n",
    "                            steps_per_epoch=8,\r\n",
    "                            epochs = 10,\r\n",
    "                            validation_data = validation_generator,\r\n",
    "                            validation_steps=2)"
   ],
   "outputs": [
    {
     "output_type": "stream",
     "name": "stdout",
     "text": [
      "WARNING:tensorflow:From <ipython-input-9-de9b8f1cf5cc>:1: Model.fit_generator (from tensorflow.python.keras.engine.training) is deprecated and will be removed in a future version.\n",
      "Instructions for updating:\n",
      "Please use Model.fit, which supports generators.\n",
      "Epoch 1/10\n",
      "8/8 [==============================] - 29s 4s/step - loss: 1.3488 - accuracy: 0.5645 - val_loss: 0.7567 - val_accuracy: 0.0000e+00\n",
      "Epoch 2/10\n",
      "8/8 [==============================] - 28s 3s/step - loss: 0.6172 - accuracy: 0.6613 - val_loss: 0.5990 - val_accuracy: 0.0781\n",
      "Epoch 3/10\n",
      "8/8 [==============================] - 30s 4s/step - loss: 0.4350 - accuracy: 0.8065 - val_loss: 0.4292 - val_accuracy: 0.0000e+00\n",
      "Epoch 4/10\n",
      "8/8 [==============================] - 28s 4s/step - loss: 0.4005 - accuracy: 0.8347 - val_loss: 0.1000 - val_accuracy: 0.0781\n",
      "Epoch 5/10\n",
      "8/8 [==============================] - 30s 4s/step - loss: 0.3122 - accuracy: 0.8952 - val_loss: 0.2124 - val_accuracy: 0.0938\n",
      "Epoch 6/10\n",
      "8/8 [==============================] - 30s 4s/step - loss: 0.2509 - accuracy: 0.9141 - val_loss: -0.6589 - val_accuracy: 0.0781\n",
      "Epoch 7/10\n",
      "8/8 [==============================] - 30s 4s/step - loss: 0.1885 - accuracy: 0.9274 - val_loss: -0.3574 - val_accuracy: 0.0312\n",
      "Epoch 8/10\n",
      "8/8 [==============================] - 30s 4s/step - loss: 0.2052 - accuracy: 0.9274 - val_loss: -0.3763 - val_accuracy: 0.0625\n",
      "Epoch 9/10\n",
      "8/8 [==============================] - 29s 4s/step - loss: 0.3103 - accuracy: 0.9032 - val_loss: 0.3586 - val_accuracy: 0.0312\n",
      "Epoch 10/10\n",
      "8/8 [==============================] - 29s 4s/step - loss: 0.2585 - accuracy: 0.8911 - val_loss: 0.7041 - val_accuracy: 0.0156\n"
     ]
    }
   ],
   "metadata": {}
  },
  {
   "cell_type": "code",
   "execution_count": 13,
   "source": [
    "filenames = validation_generator.filenames\r\n",
    "nb_samples = len(filenames)\r\n",
    "\r\n",
    "predict = model.predict_generator(validation_generator,steps=np.ceil(nb_samples/32))"
   ],
   "outputs": [],
   "metadata": {}
  },
  {
   "cell_type": "code",
   "execution_count": 10,
   "source": [
    "import anvil.server\r\n",
    "anvil.server.connect(\"3ARPWPQT5MDDTIG5MGM2DRB4-Q6B6LPKYKBQ44QVX\")"
   ],
   "outputs": [
    {
     "output_type": "stream",
     "name": "stdout",
     "text": [
      "Connecting to wss://anvil.works/uplink\n",
      "Anvil websocket open\n",
      "Connected to \"Default environment (dev)\" as SERVER\n"
     ]
    }
   ],
   "metadata": {}
  },
  {
   "cell_type": "code",
   "execution_count": 14,
   "source": [
    "import anvil.media\r\n",
    "\r\n",
    "@anvil.server.callable\r\n",
    "def classify_image(file):\r\n",
    "    with anvil.media.TempFile(file) as filename:\r\n",
    "        img = load_img(filename)\r\n",
    "    img = img.resize((128, 128), resample=PIL.Image.BICUBIC)\r\n",
    "    arr = img_to_array(img)\r\n",
    "    arr = np.expand_dims(arr, axis=0)\r\n",
    "    arr /= 255\r\n",
    "    score = model.predict(arr)\r\n",
    "    return ('Covid Negative' if score < 0.5 else 'Covid Positive', float(score))"
   ],
   "outputs": [],
   "metadata": {}
  }
 ],
 "metadata": {
  "kernelspec": {
   "display_name": "Python 3",
   "language": "python",
   "name": "python3"
  },
  "language_info": {
   "codemirror_mode": {
    "name": "ipython",
    "version": 3
   },
   "file_extension": ".py",
   "mimetype": "text/x-python",
   "name": "python",
   "nbconvert_exporter": "python",
   "pygments_lexer": "ipython3",
   "version": "3.8.3"
  }
 },
 "nbformat": 4,
 "nbformat_minor": 4
}